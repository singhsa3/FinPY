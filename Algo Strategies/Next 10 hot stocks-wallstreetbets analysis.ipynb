{
 "cells": [
  {
   "cell_type": "code",
   "execution_count": 3,
   "metadata": {},
   "outputs": [],
   "source": [
    "import praw\n",
    "import re\n",
    "import pandas as pd"
   ]
  },
  {
   "cell_type": "code",
   "execution_count": 4,
   "metadata": {},
   "outputs": [
    {
     "name": "stderr",
     "output_type": "stream",
     "text": [
      "Version 7.1.0 of praw is outdated. Version 7.1.4 was released 2 days ago.\n"
     ]
    }
   ],
   "source": [
    "reddit = praw.Reddit(client_id='6yyXACcLaR-8iA',\n",
    "                     client_secret='1YWjf8-LB2vC32_I7PyoO5lmP3jD3w',\n",
    "                     user_agent='xxx',\n",
    "                     username='xx',\n",
    "                     password='xxx')\n",
    "\n",
    "subreddit = reddit.subreddit('wallstreetbets')"
   ]
  },
  {
   "cell_type": "code",
   "execution_count": 5,
   "metadata": {},
   "outputs": [],
   "source": [
    "with open('nasdaqtraded.txt') as f:\n",
    "    lines = f.readlines()"
   ]
  },
  {
   "cell_type": "code",
   "execution_count": 11,
   "metadata": {},
   "outputs": [
    {
     "data": {
      "text/plain": [
       "'AA'"
      ]
     },
     "execution_count": 11,
     "metadata": {},
     "output_type": "execute_result"
    }
   ],
   "source": [
    "companies = lines[1:]\n",
    "companies[1][2:companies[1].find('|',2)]"
   ]
  },
  {
   "cell_type": "code",
   "execution_count": 12,
   "metadata": {},
   "outputs": [],
   "source": [
    "all_tickers = {}\n",
    "hot_tickers = {}\n",
    "\n",
    "for line in companies:\n",
    "    ticker = line[2:line.find('|',2)]\n",
    "    all_tickers[ticker] = 1"
   ]
  },
  {
   "cell_type": "code",
   "execution_count": 16,
   "metadata": {},
   "outputs": [],
   "source": [
    "regexPattern = r'\\b([A-Z]+)\\b'"
   ]
  },
  {
   "cell_type": "code",
   "execution_count": 32,
   "metadata": {},
   "outputs": [],
   "source": [
    "for submission in subreddit.top('day'):\n",
    "    strings = [submission.title]\n",
    "    submission.comments.replace_more(limit=0)\n",
    "    for comment in submission.comments.list():\n",
    "        strings.append(comment.body)\n",
    "#         break\n",
    "    for s in strings:\n",
    "        for phrase in re.findall(regexPattern,s):\n",
    "            if phrase in all_tickers:\n",
    "                if phrase not in hot_tickers:\n",
    "                    hot_tickers[phrase] = 1\n",
    "                else:\n",
    "                    hot_tickers[phrase] += 1\n",
    "#     break"
   ]
  },
  {
   "cell_type": "code",
   "execution_count": 35,
   "metadata": {},
   "outputs": [
    {
     "data": {
      "text/plain": [
       "GME     1598\n",
       "APHA     785\n",
       "TLRY     739\n",
       "AMC      393\n",
       "SNDL     324\n",
       "A        316\n",
       "DD       309\n",
       "RH       215\n",
       "SI       206\n",
       "BB       171\n",
       "dtype: int64"
      ]
     },
     "execution_count": 35,
     "metadata": {},
     "output_type": "execute_result"
    }
   ],
   "source": [
    "series = pd.Series(hot_tickers).sort_values(ascending = False)\n",
    "series[:10]"
   ]
  },
  {
   "cell_type": "code",
   "execution_count": null,
   "metadata": {},
   "outputs": [],
   "source": []
  },
  {
   "cell_type": "code",
   "execution_count": null,
   "metadata": {},
   "outputs": [],
   "source": []
  }
 ],
 "metadata": {
  "kernelspec": {
   "display_name": "Python 3",
   "language": "python",
   "name": "python3"
  },
  "language_info": {
   "codemirror_mode": {
    "name": "ipython",
    "version": 3
   },
   "file_extension": ".py",
   "mimetype": "text/x-python",
   "name": "python",
   "nbconvert_exporter": "python",
   "pygments_lexer": "ipython3",
   "version": "3.7.9"
  }
 },
 "nbformat": 4,
 "nbformat_minor": 4
}
