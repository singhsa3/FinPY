{
 "cells": [
  {
   "cell_type": "code",
   "execution_count": 9,
   "metadata": {
    "id": "K66BP2Xt0M5z"
   },
   "outputs": [],
   "source": [
    "import requests"
   ]
  },
  {
   "cell_type": "code",
   "execution_count": 14,
   "metadata": {
    "colab": {
     "base_uri": "https://localhost:8080/"
    },
    "id": "yYTgnMaJ7K3P",
    "outputId": "8277fb16-a654-41c2-bad7-aa09b69d3d99"
   },
   "outputs": [
    {
     "name": "stdout",
     "output_type": "stream",
     "text": [
      "Data type- \"price\", \"financials\", \"advanced\", \"statements\", \"fx\", \"crypto\" : statements\n",
      "Statement type- income, balancesheet, cashflow : cashflow\n",
      "Enter ticker: aapl\n"
     ]
    }
   ],
   "source": [
    "token = 'Tpk_059b97af715d417d9f49f50b51b1c448'\n",
    "input1 = input('Data type- \"price\", \"financials\", \"advanced\", \"statements\", \"fx\", \"crypto\" : ')\n",
    "\n",
    "if input1 ==\"price\":\n",
    "  symbol = input(\"Enter ticker: \")\n",
    "  api_url = f'https://sandbox.iexapis.com/stable/stock/{symbol}/quote/?token={token}'\n",
    "elif input1 == \"financials\":\n",
    "  symbol = input(\"Enter ticker: \")\n",
    "  Period = input(\"10-K or 10-Q: \")\n",
    "  api_url = f'https://sandbox.iexapis.com/stable/time-series/REPORTED_FINANCIALS/{symbol}/{Period}?token={token}'\n",
    "elif input1 == \"advanced\":\n",
    "  symbol = input(\"Enter ticker: \")\n",
    "  api_url = f'https://sandbox.iexapis.com/stable/stock/{symbol}/advanced-stats?token={token}'\n",
    "elif input1 == \"fx\":\n",
    "  fx = input(\"Enter FX code: \")\n",
    "  api_url = f'https://sandbox.iexapis.com/stable/fx/latest?symbols={fx}&token={token}'\n",
    "elif input1 == \"crypto\":\n",
    "  crypto1 = input(\"Enter cryptocurrency code: \")\n",
    "  api_url = f'https://sandbox.iexapis.com/stable/crypto/{crypto1}/quote?token={token}'\n",
    "elif input1 == \"statements\":\n",
    "  input2 = input('Statement type- income, balancesheet, cashflow : ')\n",
    "  if input2 == 'income':\n",
    "    symbol = input(\"Enter ticker: \")\n",
    "    api_url = f'https://sandbox.iexapis.com/stable/stock/{symbol}/income?token={token}'\n",
    "  elif input2 == 'balancesheet':\n",
    "    symbol = input(\"Enter ticker: \")\n",
    "    api_url = f'https://sandbox.iexapis.com/stable/stock/{symbol}/balance-sheet?token={token}'\n",
    "  elif input2 == 'cashflow':\n",
    "    symbol = input(\"Enter ticker: \")\n",
    "    api_url = f'https://sandbox.iexapis.com/stable/stock/{symbol}/cash-flow?token={token}'\n",
    "  else:\n",
    "    print('wrong entry')\n",
    "else:\n",
    "  print('wrong entry')\n",
    "\n",
    "data = requests.get(api_url).json()"
   ]
  },
  {
   "cell_type": "code",
   "execution_count": 15,
   "metadata": {
    "colab": {
     "base_uri": "https://localhost:8080/",
     "height": 848
    },
    "id": "GpLtkLx77K8l",
    "outputId": "429af6d5-7c2b-45d6-ff94-c4ec217d3d62"
   },
   "outputs": [
    {
     "data": {
      "text/html": [
       "<div>\n",
       "<style scoped>\n",
       "    .dataframe tbody tr th:only-of-type {\n",
       "        vertical-align: middle;\n",
       "    }\n",
       "\n",
       "    .dataframe tbody tr th {\n",
       "        vertical-align: top;\n",
       "    }\n",
       "\n",
       "    .dataframe thead th {\n",
       "        text-align: right;\n",
       "    }\n",
       "</style>\n",
       "<table border=\"1\" class=\"dataframe\">\n",
       "  <thead>\n",
       "    <tr style=\"text-align: right;\">\n",
       "      <th></th>\n",
       "      <th>Output</th>\n",
       "    </tr>\n",
       "  </thead>\n",
       "  <tbody>\n",
       "    <tr>\n",
       "      <th>capitalExpenditures</th>\n",
       "      <td>-7378405733</td>\n",
       "    </tr>\n",
       "    <tr>\n",
       "      <th>cashChange</th>\n",
       "      <td>-2119224458</td>\n",
       "    </tr>\n",
       "    <tr>\n",
       "      <th>cashFlow</th>\n",
       "      <td>80986271474</td>\n",
       "    </tr>\n",
       "    <tr>\n",
       "      <th>cashFlowFinancing</th>\n",
       "      <td>-90175670918</td>\n",
       "    </tr>\n",
       "    <tr>\n",
       "      <th>changesInInventories</th>\n",
       "      <td>86781682</td>\n",
       "    </tr>\n",
       "    <tr>\n",
       "      <th>changesInReceivables</th>\n",
       "      <td>5447318087</td>\n",
       "    </tr>\n",
       "    <tr>\n",
       "      <th>currency</th>\n",
       "      <td>USD</td>\n",
       "    </tr>\n",
       "    <tr>\n",
       "      <th>depreciation</th>\n",
       "      <td>11352384707</td>\n",
       "    </tr>\n",
       "    <tr>\n",
       "      <th>dividendsPaid</th>\n",
       "      <td>None</td>\n",
       "    </tr>\n",
       "    <tr>\n",
       "      <th>exchangeRateEffect</th>\n",
       "      <td>None</td>\n",
       "    </tr>\n",
       "    <tr>\n",
       "      <th>filingType</th>\n",
       "      <td>K01-</td>\n",
       "    </tr>\n",
       "    <tr>\n",
       "      <th>fiscalDate</th>\n",
       "      <td>2020-09-22</td>\n",
       "    </tr>\n",
       "    <tr>\n",
       "      <th>fiscalQuarter</th>\n",
       "      <td>4</td>\n",
       "    </tr>\n",
       "    <tr>\n",
       "      <th>fiscalYear</th>\n",
       "      <td>2081</td>\n",
       "    </tr>\n",
       "    <tr>\n",
       "      <th>investingActivityOther</th>\n",
       "      <td>None</td>\n",
       "    </tr>\n",
       "    <tr>\n",
       "      <th>investments</th>\n",
       "      <td>None</td>\n",
       "    </tr>\n",
       "    <tr>\n",
       "      <th>netBorrowings</th>\n",
       "      <td>10703944447</td>\n",
       "    </tr>\n",
       "    <tr>\n",
       "      <th>netIncome</th>\n",
       "      <td>13056896458</td>\n",
       "    </tr>\n",
       "    <tr>\n",
       "      <th>otherFinancingCashFlows</th>\n",
       "      <td>None</td>\n",
       "    </tr>\n",
       "    <tr>\n",
       "      <th>reportDate</th>\n",
       "      <td>2020-10-24</td>\n",
       "    </tr>\n",
       "    <tr>\n",
       "      <th>symbol</th>\n",
       "      <td>AAPL</td>\n",
       "    </tr>\n",
       "    <tr>\n",
       "      <th>totalInvestingCashFlows</th>\n",
       "      <td>-4298731305</td>\n",
       "    </tr>\n",
       "    <tr>\n",
       "      <th>id</th>\n",
       "      <td>_ALSFWOCH</td>\n",
       "    </tr>\n",
       "    <tr>\n",
       "      <th>key</th>\n",
       "      <td>AALP</td>\n",
       "    </tr>\n",
       "    <tr>\n",
       "      <th>subkey</th>\n",
       "      <td>yluaqretr</td>\n",
       "    </tr>\n",
       "    <tr>\n",
       "      <th>updated</th>\n",
       "      <td>1608578830883</td>\n",
       "    </tr>\n",
       "  </tbody>\n",
       "</table>\n",
       "</div>"
      ],
      "text/plain": [
       "                                Output\n",
       "capitalExpenditures        -7378405733\n",
       "cashChange                 -2119224458\n",
       "cashFlow                   80986271474\n",
       "cashFlowFinancing         -90175670918\n",
       "changesInInventories          86781682\n",
       "changesInReceivables        5447318087\n",
       "currency                           USD\n",
       "depreciation               11352384707\n",
       "dividendsPaid                     None\n",
       "exchangeRateEffect                None\n",
       "filingType                        K01-\n",
       "fiscalDate                  2020-09-22\n",
       "fiscalQuarter                        4\n",
       "fiscalYear                        2081\n",
       "investingActivityOther            None\n",
       "investments                       None\n",
       "netBorrowings              10703944447\n",
       "netIncome                  13056896458\n",
       "otherFinancingCashFlows           None\n",
       "reportDate                  2020-10-24\n",
       "symbol                            AAPL\n",
       "totalInvestingCashFlows    -4298731305\n",
       "id                           _ALSFWOCH\n",
       "key                               AALP\n",
       "subkey                       yluaqretr\n",
       "updated                  1608578830883"
      ]
     },
     "execution_count": 15,
     "metadata": {
      "tags": []
     },
     "output_type": "execute_result"
    }
   ],
   "source": [
    "import pandas as pd\n",
    "\n",
    "if input1 == 'financials' or input1 == 'fx':\n",
    "  s  = pd.Series(data[0],index=data[0].keys())\n",
    "elif input1 == 'statements':\n",
    "  s  = pd.Series(data[input2][0],index=data[input2][0].keys())\n",
    "else:\n",
    "  s  = pd.Series(data,index=data.keys())\n",
    "\n",
    "r = pd.DataFrame(s,columns=['Output'])\n",
    "r"
   ]
  },
  {
   "cell_type": "code",
   "execution_count": null,
   "metadata": {
    "id": "_3zGYARpCi7i"
   },
   "outputs": [],
   "source": [
    "r.to_csv(input1+symbol+'.csv')"
   ]
  },
  {
   "cell_type": "code",
   "execution_count": null,
   "metadata": {
    "id": "shOKzXjQfbES"
   },
   "outputs": [],
   "source": []
  }
 ],
 "metadata": {
  "colab": {
   "collapsed_sections": [],
   "name": "IEX Cloud API.ipynb",
   "provenance": []
  },
  "kernelspec": {
   "display_name": "Python 3",
   "language": "python",
   "name": "python3"
  },
  "language_info": {
   "codemirror_mode": {
    "name": "ipython",
    "version": 3
   },
   "file_extension": ".py",
   "mimetype": "text/x-python",
   "name": "python",
   "nbconvert_exporter": "python",
   "pygments_lexer": "ipython3",
   "version": "3.8.3"
  }
 },
 "nbformat": 4,
 "nbformat_minor": 1
}
