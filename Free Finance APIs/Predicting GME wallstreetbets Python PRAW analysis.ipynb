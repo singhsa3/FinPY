{
 "cells": [
  {
   "cell_type": "code",
   "execution_count": 1,
   "metadata": {},
   "outputs": [],
   "source": [
    "import praw\n",
    "import re"
   ]
  },
  {
   "cell_type": "code",
   "execution_count": 2,
   "metadata": {},
   "outputs": [],
   "source": [
    "# getting inside reddit\n",
    "\n",
    "reddit = praw.Reddit(client_id='',\n",
    "                     client_secret='',\n",
    "                     user_agent='',\n",
    "                     username='',\n",
    "                     password='')\n",
    "\n",
    "# referring to WSB\n",
    "\n",
    "subreddit = reddit.subreddit('wallstreetbets')"
   ]
  },
  {
   "cell_type": "code",
   "execution_count": 3,
   "metadata": {},
   "outputs": [
    {
     "name": "stdout",
     "output_type": "stream",
     "text": [
      "GME Discussion Thread for February 01, 2021 - Part 2, Electric Boogaloo\n",
      "BUY:  23079\n",
      "SELL:  15853\n",
      "HOLD:  23147\n"
     ]
    }
   ],
   "source": [
    "buy_upvote = 0\n",
    "sell_upvote = 0\n",
    "hold_upvote = 0\n",
    "\n",
    "bla = subreddit.hot(limit = 1)\n",
    "for submission in bla:\n",
    "    print(submission.title)\n",
    "    submission.comments.replace_more(limit=0)\n",
    "    comments = submission.comments.list()\n",
    "    for comment in comments:\n",
    "#         print(comment.body)\n",
    "        buy_list = re.findall(r\"\\bbuy+\\b\",comment.body, flags=re.IGNORECASE)\n",
    "        dont_buy_list = re.findall(r\"\\bdon't buy+\\b\",comment.body, flags=re.IGNORECASE)\n",
    "        sell_list = re.findall(r\"\\bsell+\\b\",comment.body, flags=re.IGNORECASE)\n",
    "        dont_sell_list = re.findall(r\"\\bdon't sell+\\b\",comment.body, flags=re.IGNORECASE)\n",
    "        hold_list = re.findall(r\"\\bhold+\\b\",comment.body, flags=re.IGNORECASE)\n",
    "        dont_hold_list = re.findall(r\"\\bdon't hold+\\b\",comment.body, flags=re.IGNORECASE)\n",
    "        if buy_list ==[]:\n",
    "            buy_upvote = buy_upvote\n",
    "        elif dont_buy_list ==[]:\n",
    "            buy_upvote +=comment.ups\n",
    "        else:\n",
    "            buy_upvote = buy_upvote\n",
    "        if sell_list == []:\n",
    "            sell_upvote = sell_upvote\n",
    "        elif dont_sell_list == []:\n",
    "            sell_upvote +=comment.ups\n",
    "        else:\n",
    "            sell_upvote = sell_upvote\n",
    "            hold_upvote +=comment.ups\n",
    "        if hold_list == []:\n",
    "            hold_upvote = hold_upvote\n",
    "        elif dont_hold_list == []:\n",
    "            hold_upvote +=comment.ups\n",
    "        else:\n",
    "            hold_upvote=hold_upvote\n",
    "            sell_upvote +=comment.ups\n",
    "\n",
    "total = buy_upvote+sell_upvote+hold_upvote\n",
    "print(\"BUY: \",buy_upvote)\n",
    "print(\"SELL: \",sell_upvote)\n",
    "print(\"HOLD: \",hold_upvote)"
   ]
  },
  {
   "cell_type": "code",
   "execution_count": null,
   "metadata": {},
   "outputs": [],
   "source": []
  }
 ],
 "metadata": {
  "kernelspec": {
   "display_name": "Python 3",
   "language": "python",
   "name": "python3"
  },
  "language_info": {
   "codemirror_mode": {
    "name": "ipython",
    "version": 3
   },
   "file_extension": ".py",
   "mimetype": "text/x-python",
   "name": "python",
   "nbconvert_exporter": "python",
   "pygments_lexer": "ipython3",
   "version": "3.7.9"
  }
 },
 "nbformat": 4,
 "nbformat_minor": 4
}
