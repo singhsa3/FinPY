{
 "cells": [
  {
   "cell_type": "code",
   "execution_count": 1,
   "metadata": {},
   "outputs": [
    {
     "name": "stderr",
     "output_type": "stream",
     "text": [
      "Using TensorFlow backend.\n"
     ]
    },
    {
     "name": "stdout",
     "output_type": "stream",
     "text": [
      "Epoch 1/15\n",
      "768/768 [==============================] - 1s 1ms/step - loss: 15.3928 - accuracy: 0.6432\n",
      "Epoch 2/15\n",
      "768/768 [==============================] - 0s 181us/step - loss: 3.5021 - accuracy: 0.5312\n",
      "Epoch 3/15\n",
      "768/768 [==============================] - 0s 195us/step - loss: 1.7275 - accuracy: 0.5482\n",
      "Epoch 4/15\n",
      "768/768 [==============================] - 0s 183us/step - loss: 1.2676 - accuracy: 0.5716\n",
      "Epoch 5/15\n",
      "768/768 [==============================] - 0s 191us/step - loss: 1.0478 - accuracy: 0.6055\n",
      "Epoch 6/15\n",
      "768/768 [==============================] - 0s 177us/step - loss: 0.9291 - accuracy: 0.6237\n",
      "Epoch 7/15\n",
      "768/768 [==============================] - 0s 195us/step - loss: 0.8339 - accuracy: 0.6471\n",
      "Epoch 8/15\n",
      "768/768 [==============================] - 0s 180us/step - loss: 0.7832 - accuracy: 0.6510\n",
      "Epoch 9/15\n",
      "768/768 [==============================] - 0s 241us/step - loss: 0.7563 - accuracy: 0.6523\n",
      "Epoch 10/15\n",
      "768/768 [==============================] - 0s 219us/step - loss: 0.7258 - accuracy: 0.6536\n",
      "Epoch 11/15\n",
      "768/768 [==============================] - 0s 260us/step - loss: 0.7197 - accuracy: 0.6471\n",
      "Epoch 12/15\n",
      "768/768 [==============================] - 0s 241us/step - loss: 0.6944 - accuracy: 0.6615\n",
      "Epoch 13/15\n",
      "768/768 [==============================] - 0s 239us/step - loss: 0.6915 - accuracy: 0.6484\n",
      "Epoch 14/15\n",
      "768/768 [==============================] - 0s 243us/step - loss: 0.6848 - accuracy: 0.6523\n",
      "Epoch 15/15\n",
      "768/768 [==============================] - 0s 436us/step - loss: 0.6875 - accuracy: 0.6536\n",
      "[6.0, 148.0, 72.0, 35.0, 0.0, 33.6, 0.627, 50.0] => 0 (expected 1)\n",
      "[1.0, 85.0, 66.0, 29.0, 0.0, 26.6, 0.351, 31.0] => 0 (expected 0)\n",
      "[8.0, 183.0, 64.0, 0.0, 0.0, 23.3, 0.672, 32.0] => 1 (expected 1)\n",
      "[1.0, 89.0, 66.0, 23.0, 94.0, 28.1, 0.167, 21.0] => 0 (expected 0)\n",
      "[0.0, 137.0, 40.0, 35.0, 168.0, 43.1, 2.288, 33.0] => 0 (expected 1)\n"
     ]
    }
   ],
   "source": [
    "from numpy import loadtxt\n",
    "from keras.models import Sequential\n",
    "from keras.layers import Dense\n",
    "\n",
    "#load data\n",
    "dataset=loadtxt('pima-indians-diabetes.csv',delimiter=',')\n",
    "X=dataset[:,:8]\n",
    "y=dataset[:,8]\n",
    "\n",
    "#Define Keras model\n",
    "model=Sequential()\n",
    "model.add(Dense(12,input_dim=8,activation='relu'))\n",
    "model.add(Dense(8,activation='relu'))\n",
    "model.add(Dense(1,activation='sigmoid'))\n",
    "\n",
    "#Compile Keras model\n",
    "model.compile(loss='binary_crossentropy',optimizer='adam',metrics=['accuracy'])\n",
    "\n",
    "#fit Keras model\n",
    "model.fit(X,y,epochs=15,batch_size=10)\n",
    "\n",
    "#evaluate the keras model\n",
    "# _, accuracy = model.evaluate(X, y)\n",
    "# print('Accuracy: %.2f' % (accuracy*100))\n",
    "\n",
    "predictions = model.predict_classes(X)\n",
    "# summarize the first 5 cases\n",
    "for i in range(5):print('%s => %d (expected %d)' % (X[i].tolist(), predictions[i], y[i]))"
   ]
  },
  {
   "cell_type": "code",
   "execution_count": null,
   "metadata": {},
   "outputs": [],
   "source": []
  }
 ],
 "metadata": {
  "kernelspec": {
   "display_name": "Python 3",
   "language": "python",
   "name": "python3"
  },
  "language_info": {
   "codemirror_mode": {
    "name": "ipython",
    "version": 3
   },
   "file_extension": ".py",
   "mimetype": "text/x-python",
   "name": "python",
   "nbconvert_exporter": "python",
   "pygments_lexer": "ipython3",
   "version": "3.7.4"
  }
 },
 "nbformat": 4,
 "nbformat_minor": 4
}
