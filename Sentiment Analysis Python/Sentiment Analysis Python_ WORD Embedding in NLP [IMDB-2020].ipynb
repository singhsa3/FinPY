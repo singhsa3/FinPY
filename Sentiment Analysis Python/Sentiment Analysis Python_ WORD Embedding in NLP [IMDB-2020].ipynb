{
  "nbformat": 4,
  "nbformat_minor": 0,
  "metadata": {
    "colab": {
      "name": "Sentiment Analysis Python.ipynb",
      "provenance": [],
      "collapsed_sections": []
    },
    "kernelspec": {
      "name": "python3",
      "display_name": "Python 3"
    }
  },
  "cells": [
    {
      "cell_type": "code",
      "metadata": {
        "id": "IgwFIjrOks3j"
      },
      "source": [
        "import tensorflow_datasets as data\n",
        "import numpy as np\n",
        "\n",
        "imdb_data,info = data.load(\"imdb_reviews\",with_info = True,as_supervised=True)"
      ],
      "execution_count": 2,
      "outputs": []
    },
    {
      "cell_type": "code",
      "metadata": {
        "id": "Kovgivm2qAvQ"
      },
      "source": [
        "training_data,testing_data = imdb_data['train'], imdb_data['test']\n",
        "\n",
        "train_sentences,train_labels,test_sentences,test_labels = [],[],[],[]\n",
        "\n",
        "for sent,lab in training_data:\n",
        "  train_sentences.append(sent.numpy().decode('utf8'))\n",
        "  train_labels.append(lab.numpy())\n",
        "train_labels_final = np.array(train_labels)\n",
        "\n",
        "for sent,lab in testing_data:\n",
        "  test_sentences.append(sent.numpy().decode('utf8'))\n",
        "  test_labels.append(lab.numpy())\n",
        "test_labels_final = np.array(test_labels)"
      ],
      "execution_count": 3,
      "outputs": []
    },
    {
      "cell_type": "code",
      "metadata": {
        "id": "T8FyVMBlqIYR"
      },
      "source": [
        "vocab_size = 4000\n",
        "embed_dim = 16\n",
        "max_len = 500\n",
        "truncation = 'post'\n",
        "oov = '<OOV>'\n",
        "epochs = 10"
      ],
      "execution_count": 4,
      "outputs": []
    },
    {
      "cell_type": "code",
      "metadata": {
        "id": "lYVy-DUSs079"
      },
      "source": [
        "from tensorflow.keras.preprocessing.text import Tokenizer\n",
        "from tensorflow.keras.preprocessing.sequence import pad_sequences\n",
        "\n",
        "tokenizer = Tokenizer(num_words=vocab_size,oov_token=oov)\n",
        "tokenizer.fit_on_texts(train_sentences)\n",
        "words = tokenizer.word_index\n",
        "\n",
        "train_sequences = tokenizer.texts_to_sequences(train_sentences)\n",
        "train_padded = pad_sequences(train_sequences,maxlen=max_len,truncating=truncation)\n",
        "test_sequences = tokenizer.texts_to_sequences(test_sentences)\n",
        "test_padded = pad_sequences(test_sequences,maxlen=max_len,truncating=truncation)"
      ],
      "execution_count": 5,
      "outputs": []
    },
    {
      "cell_type": "code",
      "metadata": {
        "id": "0wZJUqcTvX9h"
      },
      "source": [
        "from keras.models import Sequential\n",
        "from keras.layers import Embedding,Flatten,Dense\n",
        "\n",
        "\n",
        "model = Sequential()\n",
        "model.add(Embedding(vocab_size,embed_dim,input_length=max_len))\n",
        "# GlobalAveragePooling1D \n",
        "model.add(Flatten())\n",
        "model.add(Dense(8,activation = 'relu'))\n",
        "model.add(Dense(1,activation = 'sigmoid'))\n",
        "\n",
        "model.compile(loss='binary_crossentropy',optimizer='adam',metrics=['accuracy'])"
      ],
      "execution_count": 6,
      "outputs": []
    },
    {
      "cell_type": "code",
      "metadata": {
        "colab": {
          "base_uri": "https://localhost:8080/"
        },
        "id": "vQsS4WJ4v1W2",
        "outputId": "a2d7d68d-b946-4bba-fd94-67e3ebe3461f"
      },
      "source": [
        "model_final = model.fit(train_padded,train_labels_final,epochs=epochs,validation_data=(test_padded,test_labels_final))"
      ],
      "execution_count": 7,
      "outputs": [
        {
          "output_type": "stream",
          "text": [
            "Epoch 1/10\n",
            "782/782 [==============================] - 4s 6ms/step - loss: 0.4288 - accuracy: 0.7800 - val_loss: 0.2889 - val_accuracy: 0.8770\n",
            "Epoch 2/10\n",
            "782/782 [==============================] - 4s 5ms/step - loss: 0.2120 - accuracy: 0.9170 - val_loss: 0.2980 - val_accuracy: 0.8740\n",
            "Epoch 3/10\n",
            "782/782 [==============================] - 4s 6ms/step - loss: 0.1182 - accuracy: 0.9610 - val_loss: 0.3590 - val_accuracy: 0.8619\n",
            "Epoch 4/10\n",
            "782/782 [==============================] - 4s 6ms/step - loss: 0.0478 - accuracy: 0.9894 - val_loss: 0.4350 - val_accuracy: 0.8598\n",
            "Epoch 5/10\n",
            "782/782 [==============================] - 4s 6ms/step - loss: 0.0156 - accuracy: 0.9979 - val_loss: 0.5152 - val_accuracy: 0.8571\n",
            "Epoch 6/10\n",
            "782/782 [==============================] - 4s 6ms/step - loss: 0.0056 - accuracy: 0.9994 - val_loss: 0.5814 - val_accuracy: 0.8575\n",
            "Epoch 7/10\n",
            "782/782 [==============================] - 4s 5ms/step - loss: 0.0022 - accuracy: 0.9999 - val_loss: 0.6378 - val_accuracy: 0.8564\n",
            "Epoch 8/10\n",
            "782/782 [==============================] - 4s 6ms/step - loss: 0.0011 - accuracy: 0.9999 - val_loss: 0.6830 - val_accuracy: 0.8570\n",
            "Epoch 9/10\n",
            "782/782 [==============================] - 5s 6ms/step - loss: 5.9075e-04 - accuracy: 0.9999 - val_loss: 0.7249 - val_accuracy: 0.8574\n",
            "Epoch 10/10\n",
            "782/782 [==============================] - 5s 6ms/step - loss: 3.5344e-04 - accuracy: 0.9999 - val_loss: 0.7601 - val_accuracy: 0.8578\n"
          ],
          "name": "stdout"
        }
      ]
    },
    {
      "cell_type": "code",
      "metadata": {
        "colab": {
          "base_uri": "https://localhost:8080/",
          "height": 573
        },
        "id": "YpavRRgOwwww",
        "outputId": "c8924a70-2839-4a05-b29f-bee9a1f7c7e7"
      },
      "source": [
        "import matplotlib.pyplot as plt\n",
        "\n",
        "plt.plot(model_final.history['accuracy'])\n",
        "plt.plot(model_final.history['val_accuracy'])\n",
        "plt.xlabel('Epochs')\n",
        "plt.ylabel('accuracy')\n",
        "plt.legend(['accuracy','val_accuracy'])\n",
        "plt.title('Model Accuracy')\n",
        "plt.show()\n",
        "\n",
        "plt.plot(model_final.history['loss'])\n",
        "plt.plot(model_final.history['val_loss'])\n",
        "plt.xlabel('Epochs')\n",
        "plt.ylabel('loss')\n",
        "plt.legend(['loss','val_loss'])\n",
        "plt.title('Model Loss')\n",
        "plt.show()"
      ],
      "execution_count": 8,
      "outputs": [
        {
          "output_type": "display_data",
          "data": {
            "image/png": "[encoded data removed]",
            "text/plain": [
              "<Figure size 432x288 with 1 Axes>"
            ]
          },
          "metadata": {
            "tags": [],
            "needs_background": "light"
          }
        },
        {
          "output_type": "display_data",
          "data": {
            "image/png": "[encoded data removed]",
            "text/plain": [
              "<Figure size 432x288 with 1 Axes>"
            ]
          },
          "metadata": {
            "tags": [],
            "needs_background": "light"
          }
        }
      ]
    },
    {
      "cell_type": "code",
      "metadata": {
        "id": "45Q_4x6n5ktO"
      },
      "source": [
        ""
      ],
      "execution_count": null,
      "outputs": []
    }
  ]
}