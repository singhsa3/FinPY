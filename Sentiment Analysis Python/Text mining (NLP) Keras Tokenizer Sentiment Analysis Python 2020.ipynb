{
 "cells": [
  {
   "cell_type": "code",
   "execution_count": 12,
   "metadata": {},
   "outputs": [],
   "source": [
    "from keras.preprocessing.text import Tokenizer\n",
    "from keras.preprocessing.sequence import pad_sequences\n",
    "\n",
    "\n",
    "sentence = ['This is Financial Programming with Ritvik',\n",
    "            'Like the video, and subscribe to Financial Programming with Ritvik',\n",
    "            'My name is Ritvik Dashora',\n",
    "            'I am a financial programmer!'\n",
    "            ]\n",
    "\n",
    "model = Tokenizer(num_words=100,oov_token='<OOV>')"
   ]
  },
  {
   "cell_type": "code",
   "execution_count": 13,
   "metadata": {},
   "outputs": [],
   "source": [
    "model.fit_on_texts(sentence)\n",
    "words = model.word_index"
   ]
  },
  {
   "cell_type": "code",
   "execution_count": 14,
   "metadata": {},
   "outputs": [
    {
     "name": "stdout",
     "output_type": "stream",
     "text": [
      "{'<OOV>': 1, 'financial': 2, 'ritvik': 3, 'is': 4, 'programming': 5, 'with': 6, 'this': 7, 'like': 8, 'the': 9, 'video': 10, 'and': 11, 'subscribe': 12, 'to': 13, 'my': 14, 'name': 15, 'dashora': 16, 'i': 17, 'am': 18, 'a': 19, 'programmer': 20}\n"
     ]
    }
   ],
   "source": [
    "print(words)"
   ]
  },
  {
   "cell_type": "code",
   "execution_count": 15,
   "metadata": {},
   "outputs": [
    {
     "name": "stdout",
     "output_type": "stream",
     "text": [
      "[[7, 4, 2, 5, 6, 3], [8, 9, 10, 11, 12, 13, 2, 5, 6, 3], [14, 15, 4, 3, 16], [17, 18, 19, 2, 20]]\n"
     ]
    }
   ],
   "source": [
    "sequence = model.texts_to_sequences(sentence)\n",
    "print(sequence)"
   ]
  },
  {
   "cell_type": "code",
   "execution_count": 16,
   "metadata": {},
   "outputs": [],
   "source": [
    "test_text = ['This is my Youtube channel, Financial programming with Ritvik','I am Ritvik Dashora']\n",
    "\n",
    "sequence2 = model.texts_to_sequences(test_text)"
   ]
  },
  {
   "cell_type": "code",
   "execution_count": 10,
   "metadata": {},
   "outputs": [
    {
     "name": "stdout",
     "output_type": "stream",
     "text": [
      "[[7, 4, 14, 1, 1, 2, 5, 6, 3], [17, 18, 3, 16]]\n"
     ]
    }
   ],
   "source": [
    "print(sequence2)"
   ]
  },
  {
   "cell_type": "code",
   "execution_count": 11,
   "metadata": {},
   "outputs": [
    {
     "name": "stdout",
     "output_type": "stream",
     "text": [
      "[[ 7  4  2  5  6  3  0  0]\n",
      " [ 8  9 10 11 12 13  2  5]\n",
      " [14 15  4  3 16  0  0  0]\n",
      " [17 18 19  2 20  0  0  0]]\n"
     ]
    }
   ],
   "source": [
    "padding = pad_sequences(sequence,padding='post',maxlen=8,truncating='post')\n",
    "\n",
    "print(padding)"
   ]
  },
  {
   "cell_type": "code",
   "execution_count": null,
   "metadata": {},
   "outputs": [],
   "source": []
  }
 ],
 "metadata": {
  "kernelspec": {
   "display_name": "Python 3",
   "language": "python",
   "name": "python3"
  },
  "language_info": {
   "codemirror_mode": {
    "name": "ipython",
    "version": 3
   },
   "file_extension": ".py",
   "mimetype": "text/x-python",
   "name": "python",
   "nbconvert_exporter": "python",
   "pygments_lexer": "ipython3",
   "version": "3.7.9"
  }
 },
 "nbformat": 4,
 "nbformat_minor": 4
}
